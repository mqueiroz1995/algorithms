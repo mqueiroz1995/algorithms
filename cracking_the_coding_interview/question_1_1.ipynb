{
 "cells": [
  {
   "cell_type": "markdown",
   "metadata": {},
   "source": [
    "# Question 1.1\n",
    "\n",
    "Implement an algorithm to determine if a string has all unique characters. What if you cannot use additional data structures?\n",
    "\n",
    "## Constraints\n",
    "\n",
    "* What is the string encoding? Unicode or ASCII?\n",
    "* How the algorithm should behave when the input is an empty string?\n",
    "\n",
    "## Ideas\n",
    "\n",
    "### Idea 1\n",
    "\n",
    "Compare each character with all others, if we find a repeated character, then we `return False`.\n",
    "\n",
    "**Time**:  O(n^2) <br>\n",
    "**Space**: O(1)\n",
    "\n",
    "###  Idea 2\n",
    "\n",
    "Iterate throw the whole string, if we find an element o add it to our memory. If our memory already have our element then we `return False`.\n",
    "\n",
    "Our memory can be implemented using an array which size is the same as the encoding table size, where each char is mapped to a single position and because of that access is O(1).\n",
    "\n",
    "Our memory can also be implemented using a Hash Set, this would reduce the space usage a bit while keeping the constant-time access.\n",
    "\n",
    "**Time**:  O(n) <br>\n",
    "**Space**: O(k)\n",
    "\n",
    "### Optimization\n",
    "\n",
    "If the string length is bigger than the encoding table size, the string have repeated chars.\n",
    "\n",
    "**Time**: O(1) - as big as the input is, the maximum string size searched will be limited by the encoding table size."
   ]
  },
  {
   "cell_type": "code",
   "execution_count": 20,
   "metadata": {},
   "outputs": [],
   "source": [
    "ENCODING_TABLE_SIZE = 256\n",
    "\n",
    "def isUnique(input):\n",
    "    if len(input) > ENCODING_TABLE_SIZE:\n",
    "        return False\n",
    "    \n",
    "    mem = {}\n",
    "    for c in input:\n",
    "        if c in mem:\n",
    "            return False\n",
    "        \n",
    "        mem[c] = True\n",
    "    \n",
    "    return True"
   ]
  },
  {
   "cell_type": "code",
   "execution_count": 22,
   "metadata": {},
   "outputs": [
    {
     "name": "stdout",
     "output_type": "stream",
     "text": [
      "Test passes for input \"aa\".\n",
      "Test passes for input \"abcabc\".\n",
      "Test passes for input \"\".\n",
      "Test passes for input \"abcd\".\n"
     ]
    }
   ],
   "source": [
    "def test(input, expected_value):\n",
    "    real_value = isUnique(input)\n",
    "    if( real_value != expected_value):\n",
    "        print(\"Test fails for input \\\"{}\\\".\\nExpected value:{}\\nReturned value:{}\".format(input, expected_value, real_value))\n",
    "    else:\n",
    "        print(\"Test passes for input \\\"{}\\\".\".format(input))\n",
    "        \n",
    "test(\"aa\", False)\n",
    "test(\"abcabc\", False)\n",
    "\n",
    "test(\"\", True)\n",
    "test(\"abcd\", True)"
   ]
  }
 ],
 "metadata": {
  "kernelspec": {
   "display_name": "Python 3",
   "language": "python",
   "name": "python3"
  },
  "language_info": {
   "codemirror_mode": {
    "name": "ipython",
    "version": 3
   },
   "file_extension": ".py",
   "mimetype": "text/x-python",
   "name": "python",
   "nbconvert_exporter": "python",
   "pygments_lexer": "ipython3",
   "version": "3.7.0"
  }
 },
 "nbformat": 4,
 "nbformat_minor": 2
}
