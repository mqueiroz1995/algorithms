{
 "cells": [
  {
   "cell_type": "markdown",
   "metadata": {},
   "source": [
    "# Question 1.6\n",
    "\n",
    "**String Compression:** Implement a method to perform basic string compression using the counts of repeated characters. For example, the string aabcccccaaa would become a2b1c5a3. If the \"compressed\" string would not become smaller than the original string, your method should return the original string. You can assume the string has only uppercase and lowercase letters (a - z).\n",
    "\n",
    "## Examples\n",
    "\n",
    "* aabcccccaaa -> a2b1c5a3\n",
    "\n",
    "## Constraints\n",
    "\n",
    "* Is the algorithm case sensitive?\n",
    "* What is the expected outcome if string is empty?\n",
    "* What if compressed string has the same size?\n",
    "\n",
    "## Ideas\n",
    "\n",
    "### Idea 1\n",
    "\n",
    "Naive approach: iterate throw string counting the characters, whenever we reach a different character we should replace de character chain with it's compressed representation.\n",
    "\n",
    "**Time**: O(n^2) - each rewrite is O(n) and in the worst case, where no repeated chars appears consecutively, we would need n rewrites\n",
    "**Space**: O(n) - in the worst case, where no repeated chars appears consecutively, the string would become twice as big\n",
    "\n",
    "### Idea 2\n",
    "\n",
    "Iterate throw string counting the number of characters chains (C). The final string length will be 2 * C. \n",
    "* If the final lenght is bigger than or equal to the original length, return the original length.\n",
    "* If it's smaller, compress string using char array.\n",
    "\n",
    "**Time**: O(N)\n",
    "**Space**: O(N)\n",
    "\n",
    "### Idea 3\n",
    "\n",
    "Iterate throw string:\n",
    "* Whenever a character is equal to the previous one, increase chain_size.\n",
    "* Whenever a character is different than previous one, write the previous character and the chain size to compressed data array. \n",
    "\n",
    "**Time**: O(N)\n",
    "**Space**: O(N)"
   ]
  },
  {
   "cell_type": "code",
   "execution_count": 13,
   "metadata": {},
   "outputs": [
    {
     "output_type": "stream",
     "name": "stdout",
     "text": "Test passes for input ''.\n\nTest passes for input 'abcd'.\n\nTest passes for input 'aabc'.\n\nTest passes for input 'aabcccccaaa'.\n\n"
    }
   ],
   "source": [
    "# ALGORITHM\n",
    "def compress(data):\n",
    "    if len(data) == 0:\n",
    "        return data\n",
    "    \n",
    "    compressed_data = []\n",
    "\n",
    "    chain_size = 0\n",
    "    chain_char = None\n",
    "    for c in data:\n",
    "        if c == chain_char:\n",
    "            chain_size += 1\n",
    "        else:\n",
    "            if chain_char != None:\n",
    "                compressed_data.append(chain_char)\n",
    "                compressed_data.append(str(chain_size))\n",
    "            \n",
    "            chain_char = c\n",
    "            chain_size = 1\n",
    "\n",
    "    compressed_data.append(chain_char)\n",
    "    compressed_data.append(str(chain_size))\n",
    "    \n",
    "    if len(data) <= len(compressed_data):\n",
    "        return data\n",
    "    else:\n",
    "        return ''.join(compressed_data)\n",
    "\n",
    "# TESTS\n",
    "def test(input_a, expected_response):\n",
    "    response = compress(input_a)\n",
    "    if response != expected_response:\n",
    "        print(\"Test fails for input '{}'.\\nExpected value:{}\\nReturned value:{}\\n\".format(input_a, expected_response, response))\n",
    "    else:\n",
    "        print(\"Test passes for input '{}'.\\n\".format(input_a))\n",
    "        \n",
    "test(\"\", \"\")\n",
    "test(\"abcd\", \"abcd\")\n",
    "test(\"aabc\", \"aabc\")\n",
    "test(\"aabcccccaaa\", \"a2b1c5a3\")"
   ]
  }
 ],
 "metadata": {
  "kernelspec": {
   "display_name": "Python 3",
   "language": "python",
   "name": "python3"
  },
  "language_info": {
   "codemirror_mode": {
    "name": "ipython",
    "version": 3
   },
   "file_extension": ".py",
   "mimetype": "text/x-python",
   "name": "python",
   "nbconvert_exporter": "python",
   "pygments_lexer": "ipython3",
   "version": "3.7.6-final"
  }
 },
 "nbformat": 4,
 "nbformat_minor": 2
}