{
 "cells": [
  {
   "cell_type": "markdown",
   "metadata": {},
   "source": [
    "# Question 1.2\n",
    "\n",
    "Given two strings, write a method to decide if one is a permutation of the other.\n",
    "\n",
    "## Constraints\n",
    "\n",
    "* Do whitespace matters?\n",
    "* Is the algorithm case sensitive?\n",
    "* What the algorithm returns when receives empty strings as input?\n",
    "* If the strings are exactly the same, should it return True?\n",
    "* What is the string encoding?\n",
    "\n",
    "## Ideas\n",
    "\n",
    "### Idea 1\n",
    "\n",
    "For each char from string A, search for a occurence in string B. If the character is present, remove it from B.\n",
    "\n",
    "**Time**: O(n^2)\n",
    "**Space**: O(1)\n",
    "\n",
    "### Idea 2\n",
    "\n",
    "Iterate throw string A an for each occurence of a char increase a counter specific to that char.\n",
    "Then iterate throw string B and for each ocurrence of a char decrease a counter specific to that char.\n",
    "In the end, if the counter is 0 for all chars `return True`, else `return False`.\n",
    "\n",
    "**Time**: O(n)\n",
    "**Space**: O(k) where k is the size of the encoding.\n",
    "\n",
    "### Optimization:\n",
    "\n",
    "If the strings doesn't have equal lenght one is not a permutation of the other."
   ]
  },
  {
   "cell_type": "code",
   "execution_count": 9,
   "metadata": {},
   "outputs": [],
   "source": [
    "# ALGORITHM\n",
    "def isPermutation(A, B):\n",
    "    if len(A) != len(B):\n",
    "        return False\n",
    "    \n",
    "    mem = {}\n",
    "    for c in A:\n",
    "        if c in mem:\n",
    "            mem[c] += 1\n",
    "        else:\n",
    "            mem[c] = 1\n",
    "            \n",
    "    for c in B:\n",
    "        if c in mem:\n",
    "            mem[c] -= 1\n",
    "            if mem[c] == 0: del mem[c]\n",
    "        else:\n",
    "            return False\n",
    "    \n",
    "    return len(mem) == 0"
   ]
  },
  {
   "cell_type": "code",
   "execution_count": 10,
   "metadata": {},
   "outputs": [
    {
     "name": "stdout",
     "output_type": "stream",
     "text": [
      "Test passes for inputs \"\" \"\".\n",
      "Test passes for inputs \"\" \"a\".\n",
      "Test passes for inputs \"a\" \"\".\n",
      "Test passes for inputs \"a\" \"a\".\n",
      "Test passes for inputs \"abcd\" \"adcb\".\n"
     ]
    }
   ],
   "source": [
    "# TESTS\n",
    "def test(input_A, input_B, expected_value):\n",
    "    real_value = isPermutation(input_A, input_B)\n",
    "    if( real_value != expected_value):\n",
    "        print(\"Test fails for inputs \\\"{}\\\" \\\"{}\\\".\\nExpected value:{}\\nReturned value:{}\".format(input_A, input_B, expected_value, real_value))\n",
    "    else:\n",
    "        print(\"Test passes for inputs \\\"{}\\\" \\\"{}\\\".\".format(input_A, input_B))\n",
    "        \n",
    "test(\"\", \"\", True)\n",
    "test(\"\", \"a\", False)\n",
    "test(\"a\", \"\", False)\n",
    "test(\"a\", \"a\", True)\n",
    "test(\"abcd\", \"adcb\", True)"
   ]
  },
  {
   "cell_type": "code",
   "execution_count": null,
   "metadata": {},
   "outputs": [],
   "source": []
  }
 ],
 "metadata": {
  "kernelspec": {
   "display_name": "Python 3",
   "language": "python",
   "name": "python3"
  },
  "language_info": {
   "codemirror_mode": {
    "name": "ipython",
    "version": 3
   },
   "file_extension": ".py",
   "mimetype": "text/x-python",
   "name": "python",
   "nbconvert_exporter": "python",
   "pygments_lexer": "ipython3",
   "version": "3.7.0"
  }
 },
 "nbformat": 4,
 "nbformat_minor": 2
}
