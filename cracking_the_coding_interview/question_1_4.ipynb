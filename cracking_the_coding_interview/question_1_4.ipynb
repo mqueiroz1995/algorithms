{
 "cells": [
  {
   "cell_type": "markdown",
   "metadata": {},
   "source": [
    "# Question 1.4\n",
    "\n",
    "**Palindrome Permutation:** Given a string, write a function to check if it is a permutation of a palindrome. A palindrome is a word or phrase that is the same forwards and backwards. A permutation is a rearrangement of letters. The palindrome does not need to be limited to just dictionary words.\n",
    "\n",
    "## Example:\n",
    "\n",
    "**Input:** Tact Coa<br>\n",
    "**Output:** True (permutations: \"taco cat\", \"atco cta\", etc)\n",
    "\n",
    "## Constraints\n",
    "\n",
    "* Is empty string a palindrome?\n",
    "* Is the algorithm case sensitive?\n",
    "* Does whitespace matters?\n",
    "\n",
    "## Ideas\n",
    "\n",
    "### Idea 1\n",
    "\n",
    "Generate all permutations and check if one of the permutations is a palindrome.\n",
    "\n",
    "**Time**: O(n!) <br>\n",
    "**Space**: O(n)\n",
    "\n",
    "### Idea 2\n",
    "\n",
    "As we saw, generating all permutations is infeasible so we should take into account the problem to reduce the search space. We know that a palindrome is the same forwards and backwards. Analysing this we can say we have two types of palindromes: even number of characters and odd number of characters. \n",
    "\n",
    "In the palindromes with even length, in order to generate a palindrome, the count of every char should be multiple of 2. \n",
    "\n",
    "In the palindromes with odd length, we can have one char which count is not multiple of 2.\n",
    "\n",
    "If this rules are followed, it's possible to generate a permutation that is a palindrome.\n",
    "\n",
    "**Time**: O(n) <br>\n",
    "**Space**: O(1)"
   ]
  },
  {
   "cell_type": "code",
   "execution_count": 12,
   "metadata": {},
   "outputs": [],
   "source": [
    "# ALGORITHM\n",
    "def isPermutationOfPalindrome(string):\n",
    "    counter = {}\n",
    "    for c in string:\n",
    "        if c != ' ':\n",
    "        if c not in counter:\n",
    "            counter[c] = 1\n",
    "        else:\n",
    "            counter[c] += 1\n",
    "            \n",
    "    hasOddCount = False\n",
    "    for key, value in counter.items():\n",
    "        if value % 2 != 0:\n",
    "            if hasOddCount:\n",
    "                return False\n",
    "            else:\n",
    "                hasOddCount = True\n",
    "        \n",
    "    return True"
   ]
  },
  {
   "cell_type": "code",
   "execution_count": 14,
   "metadata": {},
   "outputs": [
    {
     "name": "stdout",
     "output_type": "stream",
     "text": [
      "Test passes for input \"\".\n",
      "Test passes for input \"a\".\n",
      "Test passes for input \"aa\".\n",
      "Test passes for input \"baa\".\n",
      "Test passes for input \"nwendwdioeo\".\n",
      "Test passes for input \"abcdef\".\n",
      "Test fails for input \"tact coa\".\n",
      "Expected value:True\n",
      "Returned value:False\n"
     ]
    }
   ],
   "source": [
    "# TESTS\n",
    "def test(value, expected_return):\n",
    "    real_return = isPermutationOfPalindrome(value)\n",
    "    if( real_return != expected_return):\n",
    "        print(\"Test fails for input \\\"{}\\\".\\nExpected value:{}\\nReturned value:{}\".format(value, expected_return, real_return))\n",
    "    else:\n",
    "        print(\"Test passes for input \\\"{}\\\".\".format(value))\n",
    "        \n",
    "test(\"\", True)\n",
    "test(\"a\", True)\n",
    "test(\"aa\", True)\n",
    "test(\"baa\", True)\n",
    "test(\"nwendwdioeo\", True)\n",
    "test(\"abcdef\", False)\n",
    "test(\"tact coa\", True)"
   ]
  },
  {
   "cell_type": "code",
   "execution_count": null,
   "metadata": {},
   "outputs": [],
   "source": []
  }
 ],
 "metadata": {
  "kernelspec": {
   "display_name": "Python 3",
   "language": "python",
   "name": "python3"
  },
  "language_info": {
   "codemirror_mode": {
    "name": "ipython",
    "version": 3
   },
   "file_extension": ".py",
   "mimetype": "text/x-python",
   "name": "python",
   "nbconvert_exporter": "python",
   "pygments_lexer": "ipython3",
   "version": "3.7.0"
  }
 },
 "nbformat": 4,
 "nbformat_minor": 2
}
