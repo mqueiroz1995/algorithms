{
 "cells": [
  {
   "cell_type": "markdown",
   "metadata": {},
   "source": [
    "# Question 1.9\n",
    "\n",
    "**String Rotation:** Assume you have a method `isSubstring` which checks if one word is a substring of another. Given two strings, s1 and s2, write code to check if s2 is a rotation of s1 using only one call to `isSubstring`.\n",
    "\n",
    "## Examples\n",
    "\n",
    "* \"waterbottle\", \"erbottlewat\" -> True\n",
    "\n",
    "## Constraints\n",
    "\n",
    "* Is the algorithm case sensitive?\n",
    "* What if both strings are the same?\n",
    "* What is the expected outcome if string is empty?\n",
    "* Do whitespaces matter?\n",
    "\n",
    "## Ideas\n",
    "\n",
    "### Idea 1\n",
    "\n",
    "We will have one pointer for iterating first string and another pointer for iterating second string.\n",
    "\n",
    "p1 is the pointer iterating s1.\n",
    "p2 the pointer iterating s2.\n",
    "\n",
    "We will start iterating s1. As soon as we find a character equals to the first character of s2, we save the current value of p1 and start iterating s2 until p1 reaches the end of s1. If we find a different character before that, s2 is not a rotation of s1. If all characters are the same, s2 starts with the characters found in s1 before the collision.\n",
    "\n",
    "**Optimization**: if string lenghts are different, return false.\n",
    "\n",
    "**Time**: O(n)\n",
    "**Space**: O(n)\n",
    "\n",
    "### Idea 2 -\n",
    "\n",
    "> Credit:  https://github.com/careercup/CtCI-6th-Edition-Python/blob/e6bc732588601d0a98e5b1bc44d83644b910978d/Chapter1/9_String%20Rotation/StringRotation.py\n",
    "\n",
    "If s2 is a rotation of s1, they must have the same size and s2 is a substring of s1 + s1.\n",
    "\n",
    "**Time**: O(n)\n",
    "**Space**: O(n)"
   ]
  },
  {
   "cell_type": "code",
   "execution_count": 1,
   "metadata": {},
   "outputs": [
    {
     "output_type": "stream",
     "name": "stdout",
     "text": "Test passes for input ''.\n\nTest passes for input 'abcd'.\n\nTest passes for input 'waterbottle'.\n\nTest passes for input 'waterbottle'.\n\nTest passes for input 'waterBOTTLE'.\n\nTest passes for input 'waterBOTTLE'.\n\n"
    }
   ],
   "source": [
    "# ALGORITHM\n",
    "def is_rotation(s1, s2):\n",
    "    if len(s1) != len(s2):\n",
    "        return False\n",
    "\n",
    "    p1 = 0\n",
    "    p2 = 0\n",
    "    collision_index = None\n",
    "    while p1 < len(s1):\n",
    "        if collision_index is not None:\n",
    "            if s1[p1] != s2[p2]:\n",
    "                return False\n",
    "            p2 += 1\n",
    "        elif s1[p1] == s2[p2]:\n",
    "            collision_index = p1\n",
    "            p2 += 1\n",
    "        p1 += 1\n",
    "\n",
    "    if collision_index is None:\n",
    "        return False\n",
    "    else:\n",
    "        return s2.startswith(s1[collision_index:])\n",
    "\n",
    "    return False\n",
    "\n",
    "# TESTS\n",
    "def test(input_a, input_b, expected_response):\n",
    "    response = is_rotation(input_a, input_b)\n",
    "    if response != expected_response:\n",
    "        print(\"Test fails for input '{}' '{}'.\\nExpected value:{}\\nReturned value:{}\\n\".format(input_a, input_b, expected_response, response))\n",
    "    else:\n",
    "        print(\"Test passes for input '{}'.\\n\".format(input_a))\n",
    "\n",
    "test(\"\", \"\", False)\n",
    "test(\"abcd\", \"abc\", False)\n",
    "test(\"waterbottle\", \"waterbottle\", True)\n",
    "test(\"waterbottle\", \"erbottlewat\", True)\n",
    "test(\"waterBOTTLE\", \"erBOTTLEwat\", True)\n",
    "test(\"waterBOTTLE\", \"erbottlewat\", False)"
   ]
  },
  {
   "cell_type": "code",
   "execution_count": null,
   "metadata": {},
   "outputs": [],
   "source": []
  }
 ],
 "metadata": {
  "kernelspec": {
   "display_name": "Python 3",
   "language": "python",
   "name": "python3"
  },
  "language_info": {
   "codemirror_mode": {
    "name": "ipython",
    "version": 3
   },
   "file_extension": ".py",
   "mimetype": "text/x-python",
   "name": "python",
   "nbconvert_exporter": "python",
   "pygments_lexer": "ipython3",
   "version": "3.7.6-final"
  }
 },
 "nbformat": 4,
 "nbformat_minor": 2
}