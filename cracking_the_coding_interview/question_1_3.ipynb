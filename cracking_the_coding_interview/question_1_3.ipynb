{
 "cells": [
  {
   "cell_type": "markdown",
   "metadata": {},
   "source": [
    "# Question 1.3\n",
    "\n",
    "Write a method to replace all spaces in a string with '%20'. You may assume that the string has sufficient space at the end to hold the aditional characters, and that you are given the \"true\" length of the string.\n",
    "\n",
    "Example:\n",
    "**Input:** \"Mr John Smith    \", 13<br>\n",
    "**Output:** \"Mr%20John%20Smith\"\n",
    "\n",
    "## Constraints\n",
    "\n",
    "* String has sufficient size, but does it have the exact required size?\n",
    "\n",
    "## Ideas\n",
    "\n",
    "### Idea 1\n",
    "\n",
    "Iterate throw the string and for each space, replace it with '%20'. This would required a string concatenation like `string[:i] + \"%20\" + string[i+1:]`, which would be O(n).\n",
    "\n",
    "**Time**:  O(n^2)<br>\n",
    "**Space**: O(n)\n",
    "\n",
    "### Idea 2\n",
    "\n",
    "Count ammount of spaces to determine the size after adjustment.\n",
    "\n",
    "Iterate throw the string from the end to beggining adjusting the indexes of each element to the new size. If the element is a space, not only adjust but also replace with '%20'.\n",
    "\n",
    "**Time**:  O(n)<br>\n",
    "**Space**: O(1)\n",
    "\n",
    "### Warning\n",
    "\n",
    "If we use a python string, each concatenation will allocate a new buffer and then copy the values of each array involved to this buffer. This operation will be O(n) in time and space complexity. Using array of chars is more recommended."
   ]
  },
  {
   "cell_type": "code",
   "execution_count": 29,
   "metadata": {},
   "outputs": [],
   "source": [
    "# ALGORITHM\n",
    "def URLify(url, true_len):\n",
    "    url = list(url)\n",
    "    \n",
    "    # Calculate the final space required\n",
    "    final_len = true_len\n",
    "    for i in range(true_len):\n",
    "        if url[i] is ' ':\n",
    "            final_len += 2\n",
    "                        \n",
    "    cur = final_len - 1\n",
    "    for i in reversed(range(true_len)):\n",
    "        if url[i] == ' ':\n",
    "            url[cur] = '0'\n",
    "            url[cur - 1] = '2'\n",
    "            url[cur - 2] = '%'\n",
    "            cur -= 3\n",
    "        else:\n",
    "            url[cur] = url[i]\n",
    "            cur -= 1\n",
    "            \n",
    "    return ''.join(url)"
   ]
  },
  {
   "cell_type": "code",
   "execution_count": 30,
   "metadata": {},
   "outputs": [
    {
     "name": "stdout",
     "output_type": "stream",
     "text": [
      "Test passes for input \"\".\n",
      "Test passes for input \"a\".\n",
      "Test passes for input \"abcdefg\".\n",
      "Test passes for input \"abc def  \".\n",
      "Test passes for input \"ab cd ef    \".\n"
     ]
    }
   ],
   "source": [
    "# TESTS\n",
    "def test(value, length, expected_value):\n",
    "    real_value = URLify(value, length)\n",
    "    if( real_value != expected_value):\n",
    "        print(\"Test fails for input [\\\"{}\\\", \\\"{}\\\"].\\nExpected value:{}\\nReturned value:{}\".format(value, length, expected_value, real_value))\n",
    "    else:\n",
    "        print(\"Test passes for input \\\"{}\\\".\".format(value))\n",
    "        \n",
    "test(\"\", 0, \"\")\n",
    "test(\"a\", 1, \"a\")\n",
    "test(\"abcdefg\", 7, \"abcdefg\")\n",
    "test(\"abc def  \", 7, \"abc%20def\")\n",
    "test(\"ab cd ef    \", 8, \"ab%20cd%20ef\")"
   ]
  }
 ],
 "metadata": {
  "kernelspec": {
   "display_name": "Python 3",
   "language": "python",
   "name": "python3"
  },
  "language_info": {
   "codemirror_mode": {
    "name": "ipython",
    "version": 3
   },
   "file_extension": ".py",
   "mimetype": "text/x-python",
   "name": "python",
   "nbconvert_exporter": "python",
   "pygments_lexer": "ipython3",
   "version": "3.7.0"
  }
 },
 "nbformat": 4,
 "nbformat_minor": 2
}
