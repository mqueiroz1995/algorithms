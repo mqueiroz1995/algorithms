{
 "cells": [
  {
   "cell_type": "markdown",
   "metadata": {},
   "source": [
    "# Question X\n",
    "\n",
    "\n",
    "\n",
    "## Constraints\n",
    "\n",
    "\n",
    "## Ideas\n",
    "\n",
    "### Idea X\n",
    "\n",
    "**Time**:\n",
    "**Space**:"
   ]
  },
  {
   "cell_type": "code",
   "execution_count": 5,
   "metadata": {},
   "outputs": [],
   "source": [
    "# ALGORITHM"
   ]
  },
  {
   "cell_type": "code",
   "execution_count": 6,
   "metadata": {},
   "outputs": [],
   "source": [
    "# TESTS\n",
    "def test(input, expected_value):\n",
    "    real_value = isUnique(input)\n",
    "    if( real_value != expected_value):\n",
    "        print(\"Test fails for input \\\"{}\\\".\\nExpected value:{}\\nReturned value:{}\".format(input, expected_value, real_value))\n",
    "    else:\n",
    "        print(\"Test passes for input \\\"{}\\\".\".format(input))"
   ]
  }
 ],
 "metadata": {
  "kernelspec": {
   "display_name": "Python 3",
   "language": "python",
   "name": "python3"
  },
  "language_info": {
   "codemirror_mode": {
    "name": "ipython",
    "version": 3
   },
   "file_extension": ".py",
   "mimetype": "text/x-python",
   "name": "python",
   "nbconvert_exporter": "python",
   "pygments_lexer": "ipython3",
   "version": "3.7.0"
  }
 },
 "nbformat": 4,
 "nbformat_minor": 2
}
