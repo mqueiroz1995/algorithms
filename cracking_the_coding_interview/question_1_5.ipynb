{
 "cells": [
  {
   "cell_type": "markdown",
   "metadata": {},
   "source": [
    "# Question 1.5\n",
    "\n",
    "**One way:** There are three types of edits that can be performed on strings: insert a character, remove a character, or replace a character. Given two strings, write a function to check if they are one edit (or zero edits) away.\n",
    "\n",
    "## Examples\n",
    "\n",
    "* `pale, ple -> true`\n",
    "* `pales, pale -> true`\n",
    "* `pale, bale -> true`\n",
    "* `pale, bae -> false`\n",
    "\n",
    "## Constraints\n",
    "\n",
    "* Is the algorithm case sensitive?\n",
    "* No edition return true!\n",
    "\n",
    "## Ideas\n",
    "\n",
    "### Idea 1\n",
    "\n",
    "Generate all possible editions of a string and compare each of them with the other string. Each character can be edited in 3 ways, the other characters remains unaltered.\n",
    "\n",
    "**Time**: O(n)\n",
    "**Space**: O(1), since we can generate one edition at a time.\n",
    "\n",
    "### Idea 2\n",
    "\n",
    "It's easy to discover which edition was made and if it can be valid:\n",
    "* If `len(A) == len(B) + 1` then it was a insertion. \n",
    "* If `len(A) == len(B)` then it was a replacement or nothing. \n",
    "* If `len(A) == len(B) - 1` then it was a removal.\n",
    "* Anything else is invalid.\n",
    "\n",
    "Then we just need to check if we had just one edition.\n",
    "\n",
    "**Time**: O(n)\n",
    "**Space**:  O(1)"
   ]
  },
  {
   "cell_type": "code",
   "execution_count": 1,
   "metadata": {},
   "outputs": [],
   "source": [
    "# ALGORITHM\n",
    "def one_replacement_away(A, B):\n",
    "    has_replacement = False\n",
    "    for i in range(len(A)):\n",
    "        if A[i] != B[i]:\n",
    "            if has_replacement:\n",
    "                return False\n",
    "            else:\n",
    "                has_replacement = True\n",
    "    return True\n",
    "\n",
    "\n",
    "def one_insertion_away(A, B):\n",
    "    has_insertion = False\n",
    "    \n",
    "    a_idx = 0\n",
    "    b_idx = 0\n",
    "    while len(A) > a_idx and len(B) > b_idx:\n",
    "        if A[a_idx] != B[b_idx]:\n",
    "            if has_insertion: return False\n",
    "            else: has_insertion = True\n",
    "            a_idx += 1\n",
    "        else:\n",
    "            a_idx += 1\n",
    "            b_idx += 1\n",
    "                        \n",
    "    return True\n",
    " \n",
    "    \n",
    "def one_edit_away(A, B):\n",
    "    if len(A) == len(B):\n",
    "        return one_replacement_away(A, B)\n",
    "    elif len(A) == len(B) + 1:\n",
    "        return one_insertion_away(A, B)\n",
    "    elif len(a) == len(B) - 1:\n",
    "        return one_insertion_away(B, A)\n",
    "    else:\n",
    "        return False"
   ]
  },
  {
   "cell_type": "code",
   "execution_count": 2,
   "metadata": {},
   "outputs": [
    {
     "name": "stdout",
     "output_type": "stream",
     "text": [
      "Test passes for input \"\", \"\".\n",
      "Test passes for input \"pale\", \"ple\".\n",
      "Test passes for input \"pales\", \"pale\".\n",
      "Test passes for input \"pale\", \"bale\".\n",
      "Test passes for input \"pale\", \"bae\".\n"
     ]
    }
   ],
   "source": [
    "# TESTS\n",
    "def test(input_a, input_b, expected_response):\n",
    "    response = one_edit_away(input_a, input_b)\n",
    "    if response != expected_response:\n",
    "        print(\"Test fails for input \\\"{}\\\", \\\"{}\\\".\\nExpected value:{}\\nReturned value:{}\".format(input_a, input_b, expected_response, response))\n",
    "    else:\n",
    "        print(\"Test passes for input \\\"{}\\\", \\\"{}\\\".\".format(input_a, input_b))\n",
    "        \n",
    "test(\"\", \"\", True)\n",
    "test(\"pale\", \"ple\", True)\n",
    "test(\"pales\", \"pale\", True)\n",
    "test(\"pale\", \"bale\", True)\n",
    "test(\"pale\", \"bae\", False)"
   ]
  }
 ],
 "metadata": {
  "kernelspec": {
   "display_name": "Python 3",
   "language": "python",
   "name": "python3"
  },
  "language_info": {
   "codemirror_mode": {
    "name": "ipython",
    "version": 3
   },
   "file_extension": ".py",
   "mimetype": "text/x-python",
   "name": "python",
   "nbconvert_exporter": "python",
   "pygments_lexer": "ipython3",
   "version": "3.7.0"
  }
 },
 "nbformat": 4,
 "nbformat_minor": 2
}
